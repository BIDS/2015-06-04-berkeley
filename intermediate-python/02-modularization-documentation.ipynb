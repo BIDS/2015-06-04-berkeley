{
 "cells": [
  {
   "cell_type": "markdown",
   "metadata": {},
   "source": [
    "# Intermediate Python Lesson 2: Modularization and Documentation\n",
    "\n",
    "Now that we've covered some of the basic syntax and libraries in Python we can start to tackle our data analysis problem.\n",
    "We are interested in understanding the relationship between the weather and the number of mosquitos so that we can plan mosquito control measures.\n",
    "Since we want to apply these mosquito control measures at a number of different sites we need to understand how the relationship varies across sites.\n",
    "Remember that we have a series of CSV files with each file containing the data for a single location.\n",
    "\n",
    "## Learning Objectives\n",
    "\n",
    "* Write code for people, not computers\n",
    "* Break a program into chunks\n",
    "* Write and use functions in Python\n",
    "* Write useful documentation\n",
    "\n",
    "## Starting small\n",
    "\n",
    "\n",
    "When approaching computational tasks like this one it is typically best to start small,\n",
    "check each piece of code as you go,\n",
    "and make incremental changes.\n",
    "This helps avoid marathon debugging sessions\n",
    "because it's much easier to debug one small piece of the code at a time than to write 100 lines of code and\n",
    "then try to figure out all of the different bugs in it.\n",
    "\n",
    "Let's start by reading in the data from a single file and conducting a simple regression analysis on it.\n",
    "In fact, I would actually start by just importing the data and making sure that everything is coming in OK."
   ]
  },
  {
   "cell_type": "code",
   "execution_count": 2,
   "metadata": {
    "attributes": {
     "classes": [
      " {.python"
     ],
     "id": ""
    },
    "collapsed": false
   },
   "outputs": [
    {
     "data": {
      "text/html": [
       "<div style=\"max-height:1000px;max-width:1500px;overflow:auto;\">\n",
       "<table border=\"1\" class=\"dataframe\">\n",
       "  <thead>\n",
       "    <tr style=\"text-align: right;\">\n",
       "      <th></th>\n",
       "      <th>year</th>\n",
       "      <th>temperature</th>\n",
       "      <th>rainfall</th>\n",
       "      <th>mosquitos</th>\n",
       "    </tr>\n",
       "  </thead>\n",
       "  <tbody>\n",
       "    <tr>\n",
       "      <th>0 </th>\n",
       "      <td> 1960</td>\n",
       "      <td> 82</td>\n",
       "      <td> 200</td>\n",
       "      <td> 180</td>\n",
       "    </tr>\n",
       "    <tr>\n",
       "      <th>1 </th>\n",
       "      <td> 1961</td>\n",
       "      <td> 70</td>\n",
       "      <td> 227</td>\n",
       "      <td> 194</td>\n",
       "    </tr>\n",
       "    <tr>\n",
       "      <th>2 </th>\n",
       "      <td> 1962</td>\n",
       "      <td> 89</td>\n",
       "      <td> 231</td>\n",
       "      <td> 207</td>\n",
       "    </tr>\n",
       "    <tr>\n",
       "      <th>3 </th>\n",
       "      <td> 1963</td>\n",
       "      <td> 74</td>\n",
       "      <td> 114</td>\n",
       "      <td> 121</td>\n",
       "    </tr>\n",
       "    <tr>\n",
       "      <th>4 </th>\n",
       "      <td> 1964</td>\n",
       "      <td> 78</td>\n",
       "      <td> 147</td>\n",
       "      <td> 140</td>\n",
       "    </tr>\n",
       "    <tr>\n",
       "      <th>5 </th>\n",
       "      <td> 1965</td>\n",
       "      <td> 85</td>\n",
       "      <td> 151</td>\n",
       "      <td> 148</td>\n",
       "    </tr>\n",
       "    <tr>\n",
       "      <th>6 </th>\n",
       "      <td> 1966</td>\n",
       "      <td> 86</td>\n",
       "      <td> 172</td>\n",
       "      <td> 162</td>\n",
       "    </tr>\n",
       "    <tr>\n",
       "      <th>7 </th>\n",
       "      <td> 1967</td>\n",
       "      <td> 75</td>\n",
       "      <td> 106</td>\n",
       "      <td> 112</td>\n",
       "    </tr>\n",
       "    <tr>\n",
       "      <th>8 </th>\n",
       "      <td> 1968</td>\n",
       "      <td> 70</td>\n",
       "      <td> 276</td>\n",
       "      <td> 230</td>\n",
       "    </tr>\n",
       "    <tr>\n",
       "      <th>9 </th>\n",
       "      <td> 1969</td>\n",
       "      <td> 86</td>\n",
       "      <td> 165</td>\n",
       "      <td> 162</td>\n",
       "    </tr>\n",
       "    <tr>\n",
       "      <th>10</th>\n",
       "      <td> 1970</td>\n",
       "      <td> 83</td>\n",
       "      <td> 222</td>\n",
       "      <td> 198</td>\n",
       "    </tr>\n",
       "    <tr>\n",
       "      <th>11</th>\n",
       "      <td> 1971</td>\n",
       "      <td> 78</td>\n",
       "      <td> 297</td>\n",
       "      <td> 247</td>\n",
       "    </tr>\n",
       "    <tr>\n",
       "      <th>12</th>\n",
       "      <td> 1972</td>\n",
       "      <td> 87</td>\n",
       "      <td> 288</td>\n",
       "      <td> 248</td>\n",
       "    </tr>\n",
       "    <tr>\n",
       "      <th>13</th>\n",
       "      <td> 1973</td>\n",
       "      <td> 76</td>\n",
       "      <td> 286</td>\n",
       "      <td> 239</td>\n",
       "    </tr>\n",
       "    <tr>\n",
       "      <th>14</th>\n",
       "      <td> 1974</td>\n",
       "      <td> 86</td>\n",
       "      <td> 231</td>\n",
       "      <td> 202</td>\n",
       "    </tr>\n",
       "    <tr>\n",
       "      <th>15</th>\n",
       "      <td> 1975</td>\n",
       "      <td> 90</td>\n",
       "      <td> 284</td>\n",
       "      <td> 243</td>\n",
       "    </tr>\n",
       "    <tr>\n",
       "      <th>16</th>\n",
       "      <td> 1976</td>\n",
       "      <td> 76</td>\n",
       "      <td> 190</td>\n",
       "      <td> 175</td>\n",
       "    </tr>\n",
       "    <tr>\n",
       "      <th>17</th>\n",
       "      <td> 1977</td>\n",
       "      <td> 87</td>\n",
       "      <td> 257</td>\n",
       "      <td> 225</td>\n",
       "    </tr>\n",
       "    <tr>\n",
       "      <th>18</th>\n",
       "      <td> 1978</td>\n",
       "      <td> 88</td>\n",
       "      <td> 128</td>\n",
       "      <td> 133</td>\n",
       "    </tr>\n",
       "    <tr>\n",
       "      <th>19</th>\n",
       "      <td> 1979</td>\n",
       "      <td> 87</td>\n",
       "      <td> 218</td>\n",
       "      <td> 199</td>\n",
       "    </tr>\n",
       "    <tr>\n",
       "      <th>20</th>\n",
       "      <td> 1980</td>\n",
       "      <td> 81</td>\n",
       "      <td> 206</td>\n",
       "      <td> 184</td>\n",
       "    </tr>\n",
       "    <tr>\n",
       "      <th>21</th>\n",
       "      <td> 1981</td>\n",
       "      <td> 74</td>\n",
       "      <td> 175</td>\n",
       "      <td> 160</td>\n",
       "    </tr>\n",
       "    <tr>\n",
       "      <th>22</th>\n",
       "      <td> 1982</td>\n",
       "      <td> 85</td>\n",
       "      <td> 202</td>\n",
       "      <td> 187</td>\n",
       "    </tr>\n",
       "    <tr>\n",
       "      <th>23</th>\n",
       "      <td> 1983</td>\n",
       "      <td> 71</td>\n",
       "      <td> 130</td>\n",
       "      <td> 126</td>\n",
       "    </tr>\n",
       "    <tr>\n",
       "      <th>24</th>\n",
       "      <td> 1984</td>\n",
       "      <td> 80</td>\n",
       "      <td> 225</td>\n",
       "      <td> 200</td>\n",
       "    </tr>\n",
       "    <tr>\n",
       "      <th>25</th>\n",
       "      <td> 1985</td>\n",
       "      <td> 72</td>\n",
       "      <td> 196</td>\n",
       "      <td> 173</td>\n",
       "    </tr>\n",
       "    <tr>\n",
       "      <th>26</th>\n",
       "      <td> 1986</td>\n",
       "      <td> 76</td>\n",
       "      <td> 261</td>\n",
       "      <td> 222</td>\n",
       "    </tr>\n",
       "    <tr>\n",
       "      <th>27</th>\n",
       "      <td> 1987</td>\n",
       "      <td> 85</td>\n",
       "      <td> 111</td>\n",
       "      <td> 121</td>\n",
       "    </tr>\n",
       "    <tr>\n",
       "      <th>28</th>\n",
       "      <td> 1988</td>\n",
       "      <td> 83</td>\n",
       "      <td> 247</td>\n",
       "      <td> 210</td>\n",
       "    </tr>\n",
       "    <tr>\n",
       "      <th>29</th>\n",
       "      <td> 1989</td>\n",
       "      <td> 86</td>\n",
       "      <td> 137</td>\n",
       "      <td> 142</td>\n",
       "    </tr>\n",
       "    <tr>\n",
       "      <th>30</th>\n",
       "      <td> 1990</td>\n",
       "      <td> 82</td>\n",
       "      <td> 159</td>\n",
       "      <td> 152</td>\n",
       "    </tr>\n",
       "    <tr>\n",
       "      <th>31</th>\n",
       "      <td> 1991</td>\n",
       "      <td> 77</td>\n",
       "      <td> 172</td>\n",
       "      <td> 160</td>\n",
       "    </tr>\n",
       "    <tr>\n",
       "      <th>32</th>\n",
       "      <td> 1992</td>\n",
       "      <td> 74</td>\n",
       "      <td> 280</td>\n",
       "      <td> 231</td>\n",
       "    </tr>\n",
       "    <tr>\n",
       "      <th>33</th>\n",
       "      <td> 1993</td>\n",
       "      <td> 70</td>\n",
       "      <td> 291</td>\n",
       "      <td> 238</td>\n",
       "    </tr>\n",
       "    <tr>\n",
       "      <th>34</th>\n",
       "      <td> 1994</td>\n",
       "      <td> 77</td>\n",
       "      <td> 126</td>\n",
       "      <td> 125</td>\n",
       "    </tr>\n",
       "    <tr>\n",
       "      <th>35</th>\n",
       "      <td> 1995</td>\n",
       "      <td> 89</td>\n",
       "      <td> 191</td>\n",
       "      <td> 178</td>\n",
       "    </tr>\n",
       "    <tr>\n",
       "      <th>36</th>\n",
       "      <td> 1996</td>\n",
       "      <td> 83</td>\n",
       "      <td> 298</td>\n",
       "      <td> 248</td>\n",
       "    </tr>\n",
       "    <tr>\n",
       "      <th>37</th>\n",
       "      <td> 1997</td>\n",
       "      <td> 80</td>\n",
       "      <td> 282</td>\n",
       "      <td> 237</td>\n",
       "    </tr>\n",
       "    <tr>\n",
       "      <th>38</th>\n",
       "      <td> 1998</td>\n",
       "      <td> 86</td>\n",
       "      <td> 219</td>\n",
       "      <td> 195</td>\n",
       "    </tr>\n",
       "    <tr>\n",
       "      <th>39</th>\n",
       "      <td> 1999</td>\n",
       "      <td> 72</td>\n",
       "      <td> 143</td>\n",
       "      <td> 134</td>\n",
       "    </tr>\n",
       "    <tr>\n",
       "      <th>40</th>\n",
       "      <td> 2000</td>\n",
       "      <td> 79</td>\n",
       "      <td> 262</td>\n",
       "      <td> 221</td>\n",
       "    </tr>\n",
       "    <tr>\n",
       "      <th>41</th>\n",
       "      <td> 2001</td>\n",
       "      <td> 85</td>\n",
       "      <td> 189</td>\n",
       "      <td> 175</td>\n",
       "    </tr>\n",
       "    <tr>\n",
       "      <th>42</th>\n",
       "      <td> 2002</td>\n",
       "      <td> 86</td>\n",
       "      <td> 205</td>\n",
       "      <td> 186</td>\n",
       "    </tr>\n",
       "    <tr>\n",
       "      <th>43</th>\n",
       "      <td> 2003</td>\n",
       "      <td> 72</td>\n",
       "      <td> 195</td>\n",
       "      <td> 173</td>\n",
       "    </tr>\n",
       "    <tr>\n",
       "      <th>44</th>\n",
       "      <td> 2004</td>\n",
       "      <td> 78</td>\n",
       "      <td> 148</td>\n",
       "      <td> 146</td>\n",
       "    </tr>\n",
       "    <tr>\n",
       "      <th>45</th>\n",
       "      <td> 2005</td>\n",
       "      <td> 71</td>\n",
       "      <td> 262</td>\n",
       "      <td> 219</td>\n",
       "    </tr>\n",
       "    <tr>\n",
       "      <th>46</th>\n",
       "      <td> 2006</td>\n",
       "      <td> 88</td>\n",
       "      <td> 255</td>\n",
       "      <td> 226</td>\n",
       "    </tr>\n",
       "    <tr>\n",
       "      <th>47</th>\n",
       "      <td> 2007</td>\n",
       "      <td> 79</td>\n",
       "      <td> 262</td>\n",
       "      <td> 221</td>\n",
       "    </tr>\n",
       "    <tr>\n",
       "      <th>48</th>\n",
       "      <td> 2008</td>\n",
       "      <td> 73</td>\n",
       "      <td> 198</td>\n",
       "      <td> 176</td>\n",
       "    </tr>\n",
       "    <tr>\n",
       "      <th>49</th>\n",
       "      <td> 2009</td>\n",
       "      <td> 86</td>\n",
       "      <td> 215</td>\n",
       "      <td> 187</td>\n",
       "    </tr>\n",
       "    <tr>\n",
       "      <th>50</th>\n",
       "      <td> 2010</td>\n",
       "      <td> 87</td>\n",
       "      <td> 127</td>\n",
       "      <td> 129</td>\n",
       "    </tr>\n",
       "  </tbody>\n",
       "</table>\n",
       "</div>"
      ],
      "text/plain": [
       "    year  temperature  rainfall  mosquitos\n",
       "0   1960           82       200        180\n",
       "1   1961           70       227        194\n",
       "2   1962           89       231        207\n",
       "3   1963           74       114        121\n",
       "4   1964           78       147        140\n",
       "5   1965           85       151        148\n",
       "6   1966           86       172        162\n",
       "7   1967           75       106        112\n",
       "8   1968           70       276        230\n",
       "9   1969           86       165        162\n",
       "10  1970           83       222        198\n",
       "11  1971           78       297        247\n",
       "12  1972           87       288        248\n",
       "13  1973           76       286        239\n",
       "14  1974           86       231        202\n",
       "15  1975           90       284        243\n",
       "16  1976           76       190        175\n",
       "17  1977           87       257        225\n",
       "18  1978           88       128        133\n",
       "19  1979           87       218        199\n",
       "20  1980           81       206        184\n",
       "21  1981           74       175        160\n",
       "22  1982           85       202        187\n",
       "23  1983           71       130        126\n",
       "24  1984           80       225        200\n",
       "25  1985           72       196        173\n",
       "26  1986           76       261        222\n",
       "27  1987           85       111        121\n",
       "28  1988           83       247        210\n",
       "29  1989           86       137        142\n",
       "30  1990           82       159        152\n",
       "31  1991           77       172        160\n",
       "32  1992           74       280        231\n",
       "33  1993           70       291        238\n",
       "34  1994           77       126        125\n",
       "35  1995           89       191        178\n",
       "36  1996           83       298        248\n",
       "37  1997           80       282        237\n",
       "38  1998           86       219        195\n",
       "39  1999           72       143        134\n",
       "40  2000           79       262        221\n",
       "41  2001           85       189        175\n",
       "42  2002           86       205        186\n",
       "43  2003           72       195        173\n",
       "44  2004           78       148        146\n",
       "45  2005           71       262        219\n",
       "46  2006           88       255        226\n",
       "47  2007           79       262        221\n",
       "48  2008           73       198        176\n",
       "49  2009           86       215        187\n",
       "50  2010           87       127        129"
      ]
     },
     "execution_count": 2,
     "metadata": {},
     "output_type": "execute_result"
    }
   ],
   "source": [
    "import pandas as pd\n",
    "\n",
    "d = pd.read_csv('data/A2_mosquito_data.csv')\n",
    "d"
   ]
  },
  {
   "cell_type": "markdown",
   "metadata": {},
   "source": [
    "The import seems to be working properly, so that's good news,\n",
    "but does anyone have anyone see anything about the code that they don't like?\n",
    "\n",
    "That's right.\n",
    "The variable name I've chosen for the data doesn't really communicate any information to anyone about what it's holding,\n",
    "which means that when I come back to my code next month to change something I'm going to have a more difficult time understanding what the code is actually doing.\n",
    "This brings us to one of our first major lessons for the morning,\n",
    "which is that in order to understand what our code is doing so that we can quickly make changes in the future,\n",
    "we need to *write code for people, not computers*,\n",
    "and an important first step is to *use meaningful varible names*."
   ]
  },
  {
   "cell_type": "code",
   "execution_count": 4,
   "metadata": {
    "attributes": {
     "classes": [
      " {.python"
     ],
     "id": ""
    },
    "collapsed": false
   },
   "outputs": [
    {
     "data": {
      "text/html": [
       "<div style=\"max-height:1000px;max-width:1500px;overflow:auto;\">\n",
       "<table border=\"1\" class=\"dataframe\">\n",
       "  <thead>\n",
       "    <tr style=\"text-align: right;\">\n",
       "      <th></th>\n",
       "      <th>year</th>\n",
       "      <th>temperature</th>\n",
       "      <th>rainfall</th>\n",
       "      <th>mosquitos</th>\n",
       "    </tr>\n",
       "  </thead>\n",
       "  <tbody>\n",
       "    <tr>\n",
       "      <th>0</th>\n",
       "      <td> 1960</td>\n",
       "      <td> 82</td>\n",
       "      <td> 200</td>\n",
       "      <td> 180</td>\n",
       "    </tr>\n",
       "    <tr>\n",
       "      <th>1</th>\n",
       "      <td> 1961</td>\n",
       "      <td> 70</td>\n",
       "      <td> 227</td>\n",
       "      <td> 194</td>\n",
       "    </tr>\n",
       "    <tr>\n",
       "      <th>2</th>\n",
       "      <td> 1962</td>\n",
       "      <td> 89</td>\n",
       "      <td> 231</td>\n",
       "      <td> 207</td>\n",
       "    </tr>\n",
       "    <tr>\n",
       "      <th>3</th>\n",
       "      <td> 1963</td>\n",
       "      <td> 74</td>\n",
       "      <td> 114</td>\n",
       "      <td> 121</td>\n",
       "    </tr>\n",
       "    <tr>\n",
       "      <th>4</th>\n",
       "      <td> 1964</td>\n",
       "      <td> 78</td>\n",
       "      <td> 147</td>\n",
       "      <td> 140</td>\n",
       "    </tr>\n",
       "  </tbody>\n",
       "</table>\n",
       "</div>"
      ],
      "text/plain": [
       "   year  temperature  rainfall  mosquitos\n",
       "0  1960           82       200        180\n",
       "1  1961           70       227        194\n",
       "2  1962           89       231        207\n",
       "3  1963           74       114        121\n",
       "4  1964           78       147        140"
      ]
     },
     "execution_count": 4,
     "metadata": {},
     "output_type": "execute_result"
    }
   ],
   "source": [
    "import pandas as pd\n",
    "\n",
    "data = pd.read_csv('data/A2_mosquito_data.csv')\n",
    "data.head()"
   ]
  },
  {
   "cell_type": "markdown",
   "metadata": {},
   "source": [
    "The `.head()` method lets us just look at the first few rows of the data.\n",
    "A method is a function attached to an object that operates on that object.\n",
    "So in this case we can think of it as being equivalent to `head(data)`.\n",
    "\n",
    "Everything looks good,\n",
    "but either global warming has gotten *really* out of control or the temperatures are in degrees Fahrenheit.\n",
    "Let's convert them to Celsius before we get started.\n",
    "\n",
    "We don't need to reimport the data in our new cell because all of the executed cells in IPython Notebook share the same workspace.\n",
    "However, it's worth noting that if we close the notebook and then open it again it is necessary to rerun all of the individual blocks of code that a code block relies on before continuing.\n",
    "To rerun all of the cells in a notebook you can select `Cell -> Run All` from the menu."
   ]
  },
  {
   "cell_type": "code",
   "execution_count": 5,
   "metadata": {
    "attributes": {
     "classes": [
      " {.python"
     ],
     "id": ""
    },
    "collapsed": false
   },
   "outputs": [
    {
     "data": {
      "text/html": [
       "<div style=\"max-height:1000px;max-width:1500px;overflow:auto;\">\n",
       "<table border=\"1\" class=\"dataframe\">\n",
       "  <thead>\n",
       "    <tr style=\"text-align: right;\">\n",
       "      <th></th>\n",
       "      <th>year</th>\n",
       "      <th>temperature</th>\n",
       "      <th>rainfall</th>\n",
       "      <th>mosquitos</th>\n",
       "    </tr>\n",
       "  </thead>\n",
       "  <tbody>\n",
       "    <tr>\n",
       "      <th>0</th>\n",
       "      <td> 1960</td>\n",
       "      <td> 27.777778</td>\n",
       "      <td> 200</td>\n",
       "      <td> 180</td>\n",
       "    </tr>\n",
       "    <tr>\n",
       "      <th>1</th>\n",
       "      <td> 1961</td>\n",
       "      <td> 21.111111</td>\n",
       "      <td> 227</td>\n",
       "      <td> 194</td>\n",
       "    </tr>\n",
       "    <tr>\n",
       "      <th>2</th>\n",
       "      <td> 1962</td>\n",
       "      <td> 31.666667</td>\n",
       "      <td> 231</td>\n",
       "      <td> 207</td>\n",
       "    </tr>\n",
       "    <tr>\n",
       "      <th>3</th>\n",
       "      <td> 1963</td>\n",
       "      <td> 23.333333</td>\n",
       "      <td> 114</td>\n",
       "      <td> 121</td>\n",
       "    </tr>\n",
       "    <tr>\n",
       "      <th>4</th>\n",
       "      <td> 1964</td>\n",
       "      <td> 25.555556</td>\n",
       "      <td> 147</td>\n",
       "      <td> 140</td>\n",
       "    </tr>\n",
       "  </tbody>\n",
       "</table>\n",
       "</div>"
      ],
      "text/plain": [
       "   year  temperature  rainfall  mosquitos\n",
       "0  1960    27.777778       200        180\n",
       "1  1961    21.111111       227        194\n",
       "2  1962    31.666667       231        207\n",
       "3  1963    23.333333       114        121\n",
       "4  1964    25.555556       147        140"
      ]
     },
     "execution_count": 5,
     "metadata": {},
     "output_type": "execute_result"
    }
   ],
   "source": [
    "data['temperature'] = (data['temperature'] - 32) * 5 / 9.0\n",
    "data.head()"
   ]
  },
  {
   "cell_type": "markdown",
   "metadata": {},
   "source": [
    "That's better.\n",
    "Now let's go ahead and conduct a regression on the data.\n",
    "We'll use the `statsmodels` library to conduct the regression."
   ]
  },
  {
   "cell_type": "code",
   "execution_count": 7,
   "metadata": {
    "attributes": {
     "classes": [
      " {.python"
     ],
     "id": ""
    },
    "collapsed": false
   },
   "outputs": [
    {
     "data": {
      "text/html": [
       "<table class=\"simpletable\">\n",
       "<caption>OLS Regression Results</caption>\n",
       "<tr>\n",
       "  <th>Dep. Variable:</th>        <td>mosquitos</td>    <th>  R-squared:         </th> <td>   0.997</td>\n",
       "</tr>\n",
       "<tr>\n",
       "  <th>Model:</th>                   <td>OLS</td>       <th>  Adj. R-squared:    </th> <td>   0.997</td>\n",
       "</tr>\n",
       "<tr>\n",
       "  <th>Method:</th>             <td>Least Squares</td>  <th>  F-statistic:       </th> <td>   7889.</td>\n",
       "</tr>\n",
       "<tr>\n",
       "  <th>Date:</th>             <td>Wed, 13 May 2015</td> <th>  Prob (F-statistic):</th> <td>3.68e-61</td>\n",
       "</tr>\n",
       "<tr>\n",
       "  <th>Time:</th>                 <td>16:47:30</td>     <th>  Log-Likelihood:    </th> <td> -111.54</td>\n",
       "</tr>\n",
       "<tr>\n",
       "  <th>No. Observations:</th>      <td>    51</td>      <th>  AIC:               </th> <td>   229.1</td>\n",
       "</tr>\n",
       "<tr>\n",
       "  <th>Df Residuals:</th>          <td>    48</td>      <th>  BIC:               </th> <td>   234.9</td>\n",
       "</tr>\n",
       "<tr>\n",
       "  <th>Df Model:</th>              <td>     2</td>      <th>                     </th>     <td> </td>   \n",
       "</tr>\n",
       "<tr>\n",
       "  <th>Covariance Type:</th>      <td>nonrobust</td>    <th>                     </th>     <td> </td>   \n",
       "</tr>\n",
       "</table>\n",
       "<table class=\"simpletable\">\n",
       "<tr>\n",
       "       <td></td>          <th>coef</th>     <th>std err</th>      <th>t</th>      <th>P>|t|</th> <th>[95.0% Conf. Int.]</th> \n",
       "</tr>\n",
       "<tr>\n",
       "  <th>Intercept</th>   <td>   17.5457</td> <td>    2.767</td> <td>    6.341</td> <td> 0.000</td> <td>   11.983    23.109</td>\n",
       "</tr>\n",
       "<tr>\n",
       "  <th>temperature</th> <td>    0.8719</td> <td>    0.092</td> <td>    9.457</td> <td> 0.000</td> <td>    0.687     1.057</td>\n",
       "</tr>\n",
       "<tr>\n",
       "  <th>rainfall</th>    <td>    0.6967</td> <td>    0.006</td> <td>  125.385</td> <td> 0.000</td> <td>    0.686     0.708</td>\n",
       "</tr>\n",
       "</table>\n",
       "<table class=\"simpletable\">\n",
       "<tr>\n",
       "  <th>Omnibus:</th>       <td> 1.651</td> <th>  Durbin-Watson:     </th> <td>   1.872</td>\n",
       "</tr>\n",
       "<tr>\n",
       "  <th>Prob(Omnibus):</th> <td> 0.438</td> <th>  Jarque-Bera (JB):  </th> <td>   0.906</td>\n",
       "</tr>\n",
       "<tr>\n",
       "  <th>Skew:</th>          <td>-0.278</td> <th>  Prob(JB):          </th> <td>   0.636</td>\n",
       "</tr>\n",
       "<tr>\n",
       "  <th>Kurtosis:</th>      <td> 3.343</td> <th>  Cond. No.          </th> <td>1.92e+03</td>\n",
       "</tr>\n",
       "</table>"
      ],
      "text/plain": [
       "<class 'statsmodels.iolib.summary.Summary'>\n",
       "\"\"\"\n",
       "                            OLS Regression Results                            \n",
       "==============================================================================\n",
       "Dep. Variable:              mosquitos   R-squared:                       0.997\n",
       "Model:                            OLS   Adj. R-squared:                  0.997\n",
       "Method:                 Least Squares   F-statistic:                     7889.\n",
       "Date:                Wed, 13 May 2015   Prob (F-statistic):           3.68e-61\n",
       "Time:                        16:47:30   Log-Likelihood:                -111.54\n",
       "No. Observations:                  51   AIC:                             229.1\n",
       "Df Residuals:                      48   BIC:                             234.9\n",
       "Df Model:                           2                                         \n",
       "Covariance Type:            nonrobust                                         \n",
       "===============================================================================\n",
       "                  coef    std err          t      P>|t|      [95.0% Conf. Int.]\n",
       "-------------------------------------------------------------------------------\n",
       "Intercept      17.5457      2.767      6.341      0.000        11.983    23.109\n",
       "temperature     0.8719      0.092      9.457      0.000         0.687     1.057\n",
       "rainfall        0.6967      0.006    125.385      0.000         0.686     0.708\n",
       "==============================================================================\n",
       "Omnibus:                        1.651   Durbin-Watson:                   1.872\n",
       "Prob(Omnibus):                  0.438   Jarque-Bera (JB):                0.906\n",
       "Skew:                          -0.278   Prob(JB):                        0.636\n",
       "Kurtosis:                       3.343   Cond. No.                     1.92e+03\n",
       "==============================================================================\n",
       "\n",
       "Warnings:\n",
       "[1] Standard Errors assume that the covariance matrix of the errors is correctly specified.\n",
       "[2] The condition number is large, 1.92e+03. This might indicate that there are\n",
       "strong multicollinearity or other numerical problems.\n",
       "\"\"\""
      ]
     },
     "execution_count": 7,
     "metadata": {},
     "output_type": "execute_result"
    }
   ],
   "source": [
    "import statsmodels.api as sm\n",
    "\n",
    "regr_results = sm.OLS.from_formula('mosquitos ~ temperature + rainfall', data).fit()\n",
    "regr_results.summary()"
   ]
  },
  {
   "cell_type": "markdown",
   "metadata": {},
   "source": [
    "As you can see `statsmodels` lets us use the names of the columns in our dataframe\n",
    "to clearly specify the form of the statistical model we want to fit.\n",
    "This also makes the code more readable since the model we are fitting is written in a nice,\n",
    "human readable, manner.\n",
    "The `summary` method gives us a visual representation of the results.\n",
    "This summary is nice to look at, but it isn't really useful for doing more computation,\n",
    "so we can look up particular values related to the regression using the `regr_results` attributes.\n",
    "These are variables that are attached to `regr_results`."
   ]
  },
  {
   "cell_type": "code",
   "execution_count": 11,
   "metadata": {
    "collapsed": false
   },
   "outputs": [
    {
     "data": {
      "text/plain": [
       "Intercept      17.545739\n",
       "temperature     0.871943\n",
       "rainfall        0.696717\n",
       "dtype: float64"
      ]
     },
     "execution_count": 11,
     "metadata": {},
     "output_type": "execute_result"
    }
   ],
   "source": [
    "regr_results.params"
   ]
  },
  {
   "cell_type": "code",
   "execution_count": 12,
   "metadata": {
    "attributes": {
     "classes": [
      " {.python"
     ],
     "id": ""
    },
    "collapsed": false
   },
   "outputs": [
    {
     "data": {
      "text/plain": [
       "0.99696687369130499"
      ]
     },
     "execution_count": 12,
     "metadata": {},
     "output_type": "execute_result"
    }
   ],
   "source": [
    "regr_results.rsquared"
   ]
  },
  {
   "cell_type": "markdown",
   "metadata": {},
   "source": [
    "If we want to hold onto these values for later we can assign them to variables:"
   ]
  },
  {
   "cell_type": "code",
   "execution_count": 13,
   "metadata": {
    "attributes": {
     "classes": [
      " {.python"
     ],
     "id": ""
    },
    "collapsed": true
   },
   "outputs": [],
   "source": [
    "parameters = regr_results.params\n",
    "rsquared = regr_results.rsquared"
   ]
  },
  {
   "cell_type": "markdown",
   "metadata": {},
   "source": [
    "And then we can plot the observed data against the values predicted by our regression to visualize the results.\n",
    "First, remember to tell the notebook that we want our plots to appear in the notebook itself."
   ]
  },
  {
   "cell_type": "code",
   "execution_count": 14,
   "metadata": {
    "attributes": {
     "classes": [
      " {.python"
     ],
     "id": ""
    },
    "collapsed": true
   },
   "outputs": [],
   "source": [
    "%matplotlib inline"
   ]
  },
  {
   "cell_type": "code",
   "execution_count": 15,
   "metadata": {
    "attributes": {
     "classes": [
      " {.python"
     ],
     "id": ""
    },
    "collapsed": false
   },
   "outputs": [
    {
     "data": {
      "text/plain": [
       "[<matplotlib.lines.Line2D at 0x7fe6acffd748>]"
      ]
     },
     "execution_count": 15,
     "metadata": {},
     "output_type": "execute_result"
    },
    {
     "data": {
      "image/png": "[encoded data removed]",
      "text/plain": [
       "<matplotlib.figure.Figure at 0x7fe6ad021668>"
      ]
     },
     "metadata": {},
     "output_type": "display_data"
    }
   ],
   "source": [
    "import matplotlib.pyplot as plt\n",
    "\n",
    "predicted = parameters[0] + parameters[1] * data['temperature'] + parameters[2] * data['rainfall']\n",
    "plt.plot(predicted, data['mosquitos'], 'ro')\n",
    "min_mosquitos, max_mosquitos = min(data['mosquitos']), max(data['mosquitos'])\n",
    "plt.plot([min_mosquitos, max_mosquitos], [min_mosquitos, max_mosquitos], 'k-')"
   ]
  },
  {
   "cell_type": "markdown",
   "metadata": {},
   "source": [
    "OK, great.\n",
    "So putting this all together we now have a piece of code that imports the modules we need,\n",
    "loads the data into memory, fits a regression to the data,\n",
    "and stores the parameters and fit of data."
   ]
  },
  {
   "cell_type": "code",
   "execution_count": 17,
   "metadata": {
    "attributes": {
     "classes": [
      " {.python"
     ],
     "id": ""
    },
    "collapsed": false
   },
   "outputs": [
    {
     "name": "stdout",
     "output_type": "stream",
     "text": [
      "Intercept      17.545739\n",
      "temperature     0.871943\n",
      "rainfall        0.696717\n",
      "dtype: float64\n",
      "R^2 =  0.996966873691\n"
     ]
    },
    {
     "data": {
      "image/png": "[encoded data removed]",
      "text/plain": [
       "<matplotlib.figure.Figure at 0x7fe6b71eb588>"
      ]
     },
     "metadata": {},
     "output_type": "display_data"
    }
   ],
   "source": [
    "import pandas as pd\n",
    "import statsmodels.api as sm\n",
    "import matplotlib.pyplot as plt\n",
    "\n",
    "data = pd.read_csv('data/A2_mosquito_data.csv')\n",
    "data['temperature'] = (data['temperature'] - 32) * 5 / 9.0\n",
    "regr_results = sm.OLS.from_formula('mosquitos ~ temperature + rainfall', data).fit()\n",
    "parameters = regr_results.params\n",
    "rsquared = regr_results.rsquared\n",
    "predicted = parameters[0] + parameters[1] * data['temperature'] + parameters[2] * data['rainfall']\n",
    "plt.plot(predicted, data['mosquitos'], 'ro')\n",
    "min_mosquitos, max_mosquitos = min(data['mosquitos']), max(data['mosquitos'])\n",
    "plt.plot([min_mosquitos, max_mosquitos], [min_mosquitos, max_mosquitos], 'k-')\n",
    "print(parameters)\n",
    "print(\"R^2 = \", rsquared)"
   ]
  },
  {
   "cell_type": "markdown",
   "metadata": {},
   "source": [
    "## Functions\n",
    "\n",
    "\n",
    "The next thing we need to do is loop over all of the possible data files,\n",
    "but in order to do that we're going to need to grow our code some more.\n",
    "Since our brain can only easily hold 5-7 pieces of information at once,\n",
    "and our code already has more than that many pieces,\n",
    "we need to start breaking our code into manageable sized chunks.\n",
    "This will let us read and understand the code more easily and make it easier to reuse pieces of our code.\n",
    "We'll do this using functions.\n",
    "\n",
    "Functions in Python take the general form\n",
    "\n",
    "```python\n",
    "def function_name(inputs):\n",
    "    do stuff\n",
    "    return output\n",
    "```\n",
    "\n",
    "So, if we want to write a function that returns the value of a number squared we could use:"
   ]
  },
  {
   "cell_type": "code",
   "execution_count": 18,
   "metadata": {
    "attributes": {
     "classes": [
      " {.python"
     ],
     "id": ""
    },
    "collapsed": false
   },
   "outputs": [
    {
     "name": "stdout",
     "output_type": "stream",
     "text": [
      "Four squared is 16\n",
      "Five squared is 25\n"
     ]
    }
   ],
   "source": [
    "def square(x):\n",
    "    x_squared = x ** 2\n",
    "    return x_squared\n",
    "\n",
    "print(\"Four squared is\", square(4))\n",
    "print(\"Five squared is\", square(5))"
   ]
  },
  {
   "cell_type": "markdown",
   "metadata": {},
   "source": [
    "We can also just return the desired value directly."
   ]
  },
  {
   "cell_type": "code",
   "execution_count": 19,
   "metadata": {
    "attributes": {
     "classes": [
      " {.python"
     ],
     "id": ""
    },
    "collapsed": false
   },
   "outputs": [
    {
     "data": {
      "text/plain": [
       "9"
      ]
     },
     "execution_count": 19,
     "metadata": {},
     "output_type": "execute_result"
    }
   ],
   "source": [
    "def square(x):\n",
    "    return x ** 2\n",
    "\n",
    "square(3)"
   ]
  },
  {
   "cell_type": "markdown",
   "metadata": {},
   "source": [
    "And remember, if we want to use the result of the function later we need to store it somewhere."
   ]
  },
  {
   "cell_type": "code",
   "execution_count": 20,
   "metadata": {
    "attributes": {
     "classes": [
      " {.python"
     ],
     "id": ""
    },
    "collapsed": false
   },
   "outputs": [
    {
     "data": {
      "text/plain": [
       "4"
      ]
     },
     "execution_count": 20,
     "metadata": {},
     "output_type": "execute_result"
    }
   ],
   "source": [
    "two_squared = square(2)\n",
    "two_squared"
   ]
  },
  {
   "cell_type": "markdown",
   "metadata": {},
   "source": [
    "## Challenges\n",
    " \n",
    "> 1. Write a function that converts temperature from Fahrenheit to\n",
    ">    Celsius and use it to replace this line of code:\n",
    "> \n",
    ">    ```python\n",
    ">    data['temperature'] = (data['temperature'] - 32) * 5 / 9.0\n",
    ">    ```\n",
    "> \n",
    "> 2. Write a function called `analyze()` that takes `data` as an\n",
    ">    input, performs the regression, makes the observed-predicted\n",
    ">    plot, and returns `parameters`.\n",
    "> \n",
    "> *Walk through someone's result.\n",
    "> When discussing talk about different names.\n",
    "> E.g., fahr_to_celsius is better than temp_to_celsius since it is\n",
    "> explicit both the input and the output.\n",
    "> Talk about the fact that even though this doesn't save us any lines\n",
    "> of code it's still easier to read.*"
   ]
  },
  {
   "cell_type": "code",
   "execution_count": null,
   "metadata": {
    "collapsed": true
   },
   "outputs": [],
   "source": []
  },
  {
   "cell_type": "markdown",
   "metadata": {},
   "source": [
    "## The call stack\n",
    "\n",
    "\n",
    "Let's take a closer look at what happens when we call a function. To make things clearer, we'll start by putting the initial value 32 in a variable and store the final result in one as well:"
   ]
  },
  {
   "cell_type": "code",
   "execution_count": 1,
   "metadata": {
    "collapsed": true
   },
   "outputs": [],
   "source": [
    "# Don't worry if this fails\n",
    "%load_ext tutormagic"
   ]
  },
  {
   "cell_type": "code",
   "execution_count": 4,
   "metadata": {
    "attributes": {
     "classes": [
      " {.python"
     ],
     "id": ""
    },
    "collapsed": false
   },
   "outputs": [
    {
     "data": {
      "text/html": [
       "\n",
       "        <iframe\n",
       "            width=\"90%\"\n",
       "            height=\"350\"\n",
       "            src=\"http://pythontutor.com/iframe-embed.html#code=%23%20Uncomment%20%5E%20that%20line%20if%20the%20previous%20cell%20ran%20OK%0Adef%20celsius_to_kelvin%28tempC%29%3A%0A%20%20%20%20tempK%20%3D%20tempC%20%2B%20273.15%0A%20%20%20%20return%20tempK%0A%0Aoriginal%20%3D%2032.0%0Afinal%20%3D%20celsius_to_kelvin%28original%29&origin=opt-frontend.js&cumulative=false&heapPrimitives=false&textReferences=false&py=3&rawInputLstJSON=%5B%5D&curInstr=0&codeDivWidth=50%25&codeDivHeight=100%25\"\n",
       "            frameborder=\"0\"\n",
       "            allowfullscreen\n",
       "        ></iframe>\n",
       "        "
      ],
      "text/plain": [
       "<IPython.lib.display.IFrame at 0x7ff049186668>"
      ]
     },
     "metadata": {},
     "output_type": "display_data"
    }
   ],
   "source": [
    "%%tutor --lang python3\n",
    "# Uncomment ^ that line if the previous cell ran OK\n",
    "def celsius_to_kelvin(tempC):\n",
    "    tempK = tempC + 273.15\n",
    "    return tempK\n",
    "\n",
    "original = 32.0\n",
    "final = celsius_to_kelvin(original)"
   ]
  },
  {
   "cell_type": "markdown",
   "metadata": {},
   "source": [
    "#### Call Stack (Initial State)\n",
    "\n",
    "When the first three lines of this function are executed the function is created,\n",
    "but nothing happens.\n",
    "The function is like a recipe,\n",
    "it contains the information about how to do something,\n",
    "but it doesn't do so until you explicitly ask it to.\n",
    "We then create the variable `original` and assign the value 32.0 to it.\n",
    "The values `tempC` and `tempK` don't currently exist. \n",
    "\n",
    "#### Call Stack Immediately After Function Call\n",
    "\n",
    "When we call `celsius_to_kelvin`,\n",
    "Python creates another stack frame to hold the function's variables.\n",
    "Upon creation this stack frame only includes the inputs being passed to the function,\n",
    "so in our case `tempC`.\n",
    "As the function is executed variables created by the function are stored in the functions stack frame,\n",
    "so `tempC` is created in the `celsius_to_kelvin` stack frame.\n",
    "\n",
    "#### Call Stack At End Of Function Call\n",
    "\n",
    "When the call to `celsius_to_kelvin` returns a value,\n",
    "Python throws away `celsius_to_kelvin`'s stack frame,\n",
    "including all of the variables it contains,\n",
    "and creates a new variable\n",
    "in the original stack frame to hold the temperature in Celsius.\n",
    "\n",
    "#### Call Stack After End\n",
    "\n",
    "This global stack frame is always there;\n",
    "it holds the variables we defined outside the functions in our code.\n",
    "What it doesn't hold is the variables that were in the other stack frames.\n",
    "If we try to get the value of `tempC` or `tempK` after our functions have finished running,\n",
    "Python tells us that there's no such thing:"
   ]
  },
  {
   "cell_type": "code",
   "execution_count": 5,
   "metadata": {
    "attributes": {
     "classes": [
      " {.python"
     ],
     "id": ""
    },
    "collapsed": false
   },
   "outputs": [
    {
     "ename": "NameError",
     "evalue": "name 'tempK' is not defined",
     "output_type": "error",
     "traceback": [
      "\u001b[1;31m---------------------------------------------------------------------------\u001b[0m",
      "\u001b[1;31mNameError\u001b[0m                                 Traceback (most recent call last)",
      "\u001b[1;32m<ipython-input-5-3e96de45404b>\u001b[0m in \u001b[0;36m<module>\u001b[1;34m()\u001b[0m\n\u001b[1;32m----> 1\u001b[1;33m \u001b[0mprint\u001b[0m\u001b[1;33m(\u001b[0m\u001b[0mtempK\u001b[0m\u001b[1;33m)\u001b[0m\u001b[1;33m\u001b[0m\u001b[0m\n\u001b[0m",
      "\u001b[1;31mNameError\u001b[0m: name 'tempK' is not defined"
     ]
    }
   ],
   "source": [
    "print(tempK)"
   ]
  },
  {
   "cell_type": "markdown",
   "metadata": {},
   "source": [
    "The reason for this is encapsulation,\n",
    "and it's one of the key to writing correct, comprehensible programs.\n",
    "A function's job is to turn several operations into one so that we can think about\n",
    "a single function call instead of a dozen or a hundred statements each time we want to do something.\n",
    "That only works if functions don't interfere with each other by potentially changing the same variables;\n",
    "if they do, we have to pay attention to the details once again,\n",
    "which quickly overloads our short-term memory.\n",
    "\n",
    "## Testing Functions\n",
    "\n",
    "\n",
    "Once we start putting things into functions so that we can re-use them,\n",
    "we need to start testing that those functions are working correctly.\n",
    "The most basic thing we can do is some informal testing to make sure the function is doing what it is supposed to do.\n",
    "To see how to do this, let's write a function to center the values in a dataset prior to conducting statistical analysis. \n",
    "Centering means setting the mean of each variable to be the same value, typically zero."
   ]
  },
  {
   "cell_type": "code",
   "execution_count": 22,
   "metadata": {
    "attributes": {
     "classes": [
      " {.python"
     ],
     "id": ""
    },
    "collapsed": true
   },
   "outputs": [],
   "source": [
    "def center(data):\n",
    "    return data - data.mean()"
   ]
  },
  {
   "cell_type": "markdown",
   "metadata": {},
   "source": [
    "We could test this on our actual data,\n",
    "but since we don't know what the values ought to be,\n",
    "it will be hard to tell if the result was correct.\n",
    "Instead, let's create a made up data frame where we know what the result should look like."
   ]
  },
  {
   "cell_type": "code",
   "execution_count": 23,
   "metadata": {
    "attributes": {
     "classes": [
      " {.python"
     ],
     "id": ""
    },
    "collapsed": false
   },
   "outputs": [
    {
     "data": {
      "text/html": [
       "<div style=\"max-height:1000px;max-width:1500px;overflow:auto;\">\n",
       "<table border=\"1\" class=\"dataframe\">\n",
       "  <thead>\n",
       "    <tr style=\"text-align: right;\">\n",
       "      <th></th>\n",
       "      <th>0</th>\n",
       "      <th>1</th>\n",
       "    </tr>\n",
       "  </thead>\n",
       "  <tbody>\n",
       "    <tr>\n",
       "      <th>0</th>\n",
       "      <td> 1</td>\n",
       "      <td> 1</td>\n",
       "    </tr>\n",
       "    <tr>\n",
       "      <th>1</th>\n",
       "      <td> 1</td>\n",
       "      <td> 2</td>\n",
       "    </tr>\n",
       "  </tbody>\n",
       "</table>\n",
       "</div>"
      ],
      "text/plain": [
       "   0  1\n",
       "0  1  1\n",
       "1  1  2"
      ]
     },
     "execution_count": 23,
     "metadata": {},
     "output_type": "execute_result"
    }
   ],
   "source": [
    "import pandas as pd\n",
    "\n",
    "test_data = pd.DataFrame([[1, 1], [1, 2]])\n",
    "test_data"
   ]
  },
  {
   "cell_type": "markdown",
   "metadata": {},
   "source": [
    "Now that we've made some test data we need to figure out what we think the result should be\n",
    "and we need to do this *before* we run the test.\n",
    "This is important because we are biased to believe that any result we get back is correct,\n",
    "and we want to avoid that bias.\n",
    "This also helps make sure that we are confident in what we want the code to do.\n",
    "So, what should the result of running `center(data)` be?\n",
    "\n",
    "OK, let's go ahead and run the function."
   ]
  },
  {
   "cell_type": "code",
   "execution_count": 24,
   "metadata": {
    "attributes": {
     "classes": [
      " {.python"
     ],
     "id": ""
    },
    "collapsed": false
   },
   "outputs": [
    {
     "data": {
      "text/html": [
       "<div style=\"max-height:1000px;max-width:1500px;overflow:auto;\">\n",
       "<table border=\"1\" class=\"dataframe\">\n",
       "  <thead>\n",
       "    <tr style=\"text-align: right;\">\n",
       "      <th></th>\n",
       "      <th>0</th>\n",
       "      <th>1</th>\n",
       "    </tr>\n",
       "  </thead>\n",
       "  <tbody>\n",
       "    <tr>\n",
       "      <th>0</th>\n",
       "      <td> 0</td>\n",
       "      <td>-0.5</td>\n",
       "    </tr>\n",
       "    <tr>\n",
       "      <th>1</th>\n",
       "      <td> 0</td>\n",
       "      <td> 0.5</td>\n",
       "    </tr>\n",
       "  </tbody>\n",
       "</table>\n",
       "</div>"
      ],
      "text/plain": [
       "   0    1\n",
       "0  0 -0.5\n",
       "1  0  0.5"
      ]
     },
     "execution_count": 24,
     "metadata": {},
     "output_type": "execute_result"
    }
   ],
   "source": [
    "center(test_data)"
   ]
  },
  {
   "cell_type": "markdown",
   "metadata": {},
   "source": [
    "That looks right,\n",
    "so let's try `center` on our real data:"
   ]
  },
  {
   "cell_type": "code",
   "execution_count": 25,
   "metadata": {
    "attributes": {
     "classes": [
      " {.python"
     ],
     "id": ""
    },
    "collapsed": false
   },
   "outputs": [
    {
     "data": {
      "text/html": [
       "<div style=\"max-height:1000px;max-width:1500px;overflow:auto;\">\n",
       "<table border=\"1\" class=\"dataframe\">\n",
       "  <thead>\n",
       "    <tr style=\"text-align: right;\">\n",
       "      <th></th>\n",
       "      <th>year</th>\n",
       "      <th>temperature</th>\n",
       "      <th>rainfall</th>\n",
       "      <th>mosquitos</th>\n",
       "    </tr>\n",
       "  </thead>\n",
       "  <tbody>\n",
       "    <tr>\n",
       "      <th>0 </th>\n",
       "      <td>-25</td>\n",
       "      <td>  1.607843</td>\n",
       "      <td>  -7.039216</td>\n",
       "      <td> -5.235294</td>\n",
       "    </tr>\n",
       "    <tr>\n",
       "      <th>1 </th>\n",
       "      <td>-24</td>\n",
       "      <td>-10.392157</td>\n",
       "      <td>  19.960784</td>\n",
       "      <td>  8.764706</td>\n",
       "    </tr>\n",
       "    <tr>\n",
       "      <th>2 </th>\n",
       "      <td>-23</td>\n",
       "      <td>  8.607843</td>\n",
       "      <td>  23.960784</td>\n",
       "      <td> 21.764706</td>\n",
       "    </tr>\n",
       "    <tr>\n",
       "      <th>3 </th>\n",
       "      <td>-22</td>\n",
       "      <td> -6.392157</td>\n",
       "      <td> -93.039216</td>\n",
       "      <td>-64.235294</td>\n",
       "    </tr>\n",
       "    <tr>\n",
       "      <th>4 </th>\n",
       "      <td>-21</td>\n",
       "      <td> -2.392157</td>\n",
       "      <td> -60.039216</td>\n",
       "      <td>-45.235294</td>\n",
       "    </tr>\n",
       "    <tr>\n",
       "      <th>5 </th>\n",
       "      <td>-20</td>\n",
       "      <td>  4.607843</td>\n",
       "      <td> -56.039216</td>\n",
       "      <td>-37.235294</td>\n",
       "    </tr>\n",
       "    <tr>\n",
       "      <th>6 </th>\n",
       "      <td>-19</td>\n",
       "      <td>  5.607843</td>\n",
       "      <td> -35.039216</td>\n",
       "      <td>-23.235294</td>\n",
       "    </tr>\n",
       "    <tr>\n",
       "      <th>7 </th>\n",
       "      <td>-18</td>\n",
       "      <td> -5.392157</td>\n",
       "      <td>-101.039216</td>\n",
       "      <td>-73.235294</td>\n",
       "    </tr>\n",
       "    <tr>\n",
       "      <th>8 </th>\n",
       "      <td>-17</td>\n",
       "      <td>-10.392157</td>\n",
       "      <td>  68.960784</td>\n",
       "      <td> 44.764706</td>\n",
       "    </tr>\n",
       "    <tr>\n",
       "      <th>9 </th>\n",
       "      <td>-16</td>\n",
       "      <td>  5.607843</td>\n",
       "      <td> -42.039216</td>\n",
       "      <td>-23.235294</td>\n",
       "    </tr>\n",
       "    <tr>\n",
       "      <th>10</th>\n",
       "      <td>-15</td>\n",
       "      <td>  2.607843</td>\n",
       "      <td>  14.960784</td>\n",
       "      <td> 12.764706</td>\n",
       "    </tr>\n",
       "    <tr>\n",
       "      <th>11</th>\n",
       "      <td>-14</td>\n",
       "      <td> -2.392157</td>\n",
       "      <td>  89.960784</td>\n",
       "      <td> 61.764706</td>\n",
       "    </tr>\n",
       "    <tr>\n",
       "      <th>12</th>\n",
       "      <td>-13</td>\n",
       "      <td>  6.607843</td>\n",
       "      <td>  80.960784</td>\n",
       "      <td> 62.764706</td>\n",
       "    </tr>\n",
       "    <tr>\n",
       "      <th>13</th>\n",
       "      <td>-12</td>\n",
       "      <td> -4.392157</td>\n",
       "      <td>  78.960784</td>\n",
       "      <td> 53.764706</td>\n",
       "    </tr>\n",
       "    <tr>\n",
       "      <th>14</th>\n",
       "      <td>-11</td>\n",
       "      <td>  5.607843</td>\n",
       "      <td>  23.960784</td>\n",
       "      <td> 16.764706</td>\n",
       "    </tr>\n",
       "    <tr>\n",
       "      <th>15</th>\n",
       "      <td>-10</td>\n",
       "      <td>  9.607843</td>\n",
       "      <td>  76.960784</td>\n",
       "      <td> 57.764706</td>\n",
       "    </tr>\n",
       "    <tr>\n",
       "      <th>16</th>\n",
       "      <td> -9</td>\n",
       "      <td> -4.392157</td>\n",
       "      <td> -17.039216</td>\n",
       "      <td>-10.235294</td>\n",
       "    </tr>\n",
       "    <tr>\n",
       "      <th>17</th>\n",
       "      <td> -8</td>\n",
       "      <td>  6.607843</td>\n",
       "      <td>  49.960784</td>\n",
       "      <td> 39.764706</td>\n",
       "    </tr>\n",
       "    <tr>\n",
       "      <th>18</th>\n",
       "      <td> -7</td>\n",
       "      <td>  7.607843</td>\n",
       "      <td> -79.039216</td>\n",
       "      <td>-52.235294</td>\n",
       "    </tr>\n",
       "    <tr>\n",
       "      <th>19</th>\n",
       "      <td> -6</td>\n",
       "      <td>  6.607843</td>\n",
       "      <td>  10.960784</td>\n",
       "      <td> 13.764706</td>\n",
       "    </tr>\n",
       "    <tr>\n",
       "      <th>20</th>\n",
       "      <td> -5</td>\n",
       "      <td>  0.607843</td>\n",
       "      <td>  -1.039216</td>\n",
       "      <td> -1.235294</td>\n",
       "    </tr>\n",
       "    <tr>\n",
       "      <th>21</th>\n",
       "      <td> -4</td>\n",
       "      <td> -6.392157</td>\n",
       "      <td> -32.039216</td>\n",
       "      <td>-25.235294</td>\n",
       "    </tr>\n",
       "    <tr>\n",
       "      <th>22</th>\n",
       "      <td> -3</td>\n",
       "      <td>  4.607843</td>\n",
       "      <td>  -5.039216</td>\n",
       "      <td>  1.764706</td>\n",
       "    </tr>\n",
       "    <tr>\n",
       "      <th>23</th>\n",
       "      <td> -2</td>\n",
       "      <td> -9.392157</td>\n",
       "      <td> -77.039216</td>\n",
       "      <td>-59.235294</td>\n",
       "    </tr>\n",
       "    <tr>\n",
       "      <th>24</th>\n",
       "      <td> -1</td>\n",
       "      <td> -0.392157</td>\n",
       "      <td>  17.960784</td>\n",
       "      <td> 14.764706</td>\n",
       "    </tr>\n",
       "    <tr>\n",
       "      <th>25</th>\n",
       "      <td>  0</td>\n",
       "      <td> -8.392157</td>\n",
       "      <td> -11.039216</td>\n",
       "      <td>-12.235294</td>\n",
       "    </tr>\n",
       "    <tr>\n",
       "      <th>26</th>\n",
       "      <td>  1</td>\n",
       "      <td> -4.392157</td>\n",
       "      <td>  53.960784</td>\n",
       "      <td> 36.764706</td>\n",
       "    </tr>\n",
       "    <tr>\n",
       "      <th>27</th>\n",
       "      <td>  2</td>\n",
       "      <td>  4.607843</td>\n",
       "      <td> -96.039216</td>\n",
       "      <td>-64.235294</td>\n",
       "    </tr>\n",
       "    <tr>\n",
       "      <th>28</th>\n",
       "      <td>  3</td>\n",
       "      <td>  2.607843</td>\n",
       "      <td>  39.960784</td>\n",
       "      <td> 24.764706</td>\n",
       "    </tr>\n",
       "    <tr>\n",
       "      <th>29</th>\n",
       "      <td>  4</td>\n",
       "      <td>  5.607843</td>\n",
       "      <td> -70.039216</td>\n",
       "      <td>-43.235294</td>\n",
       "    </tr>\n",
       "    <tr>\n",
       "      <th>30</th>\n",
       "      <td>  5</td>\n",
       "      <td>  1.607843</td>\n",
       "      <td> -48.039216</td>\n",
       "      <td>-33.235294</td>\n",
       "    </tr>\n",
       "    <tr>\n",
       "      <th>31</th>\n",
       "      <td>  6</td>\n",
       "      <td> -3.392157</td>\n",
       "      <td> -35.039216</td>\n",
       "      <td>-25.235294</td>\n",
       "    </tr>\n",
       "    <tr>\n",
       "      <th>32</th>\n",
       "      <td>  7</td>\n",
       "      <td> -6.392157</td>\n",
       "      <td>  72.960784</td>\n",
       "      <td> 45.764706</td>\n",
       "    </tr>\n",
       "    <tr>\n",
       "      <th>33</th>\n",
       "      <td>  8</td>\n",
       "      <td>-10.392157</td>\n",
       "      <td>  83.960784</td>\n",
       "      <td> 52.764706</td>\n",
       "    </tr>\n",
       "    <tr>\n",
       "      <th>34</th>\n",
       "      <td>  9</td>\n",
       "      <td> -3.392157</td>\n",
       "      <td> -81.039216</td>\n",
       "      <td>-60.235294</td>\n",
       "    </tr>\n",
       "    <tr>\n",
       "      <th>35</th>\n",
       "      <td> 10</td>\n",
       "      <td>  8.607843</td>\n",
       "      <td> -16.039216</td>\n",
       "      <td> -7.235294</td>\n",
       "    </tr>\n",
       "    <tr>\n",
       "      <th>36</th>\n",
       "      <td> 11</td>\n",
       "      <td>  2.607843</td>\n",
       "      <td>  90.960784</td>\n",
       "      <td> 62.764706</td>\n",
       "    </tr>\n",
       "    <tr>\n",
       "      <th>37</th>\n",
       "      <td> 12</td>\n",
       "      <td> -0.392157</td>\n",
       "      <td>  74.960784</td>\n",
       "      <td> 51.764706</td>\n",
       "    </tr>\n",
       "    <tr>\n",
       "      <th>38</th>\n",
       "      <td> 13</td>\n",
       "      <td>  5.607843</td>\n",
       "      <td>  11.960784</td>\n",
       "      <td>  9.764706</td>\n",
       "    </tr>\n",
       "    <tr>\n",
       "      <th>39</th>\n",
       "      <td> 14</td>\n",
       "      <td> -8.392157</td>\n",
       "      <td> -64.039216</td>\n",
       "      <td>-51.235294</td>\n",
       "    </tr>\n",
       "    <tr>\n",
       "      <th>40</th>\n",
       "      <td> 15</td>\n",
       "      <td> -1.392157</td>\n",
       "      <td>  54.960784</td>\n",
       "      <td> 35.764706</td>\n",
       "    </tr>\n",
       "    <tr>\n",
       "      <th>41</th>\n",
       "      <td> 16</td>\n",
       "      <td>  4.607843</td>\n",
       "      <td> -18.039216</td>\n",
       "      <td>-10.235294</td>\n",
       "    </tr>\n",
       "    <tr>\n",
       "      <th>42</th>\n",
       "      <td> 17</td>\n",
       "      <td>  5.607843</td>\n",
       "      <td>  -2.039216</td>\n",
       "      <td>  0.764706</td>\n",
       "    </tr>\n",
       "    <tr>\n",
       "      <th>43</th>\n",
       "      <td> 18</td>\n",
       "      <td> -8.392157</td>\n",
       "      <td> -12.039216</td>\n",
       "      <td>-12.235294</td>\n",
       "    </tr>\n",
       "    <tr>\n",
       "      <th>44</th>\n",
       "      <td> 19</td>\n",
       "      <td> -2.392157</td>\n",
       "      <td> -59.039216</td>\n",
       "      <td>-39.235294</td>\n",
       "    </tr>\n",
       "    <tr>\n",
       "      <th>45</th>\n",
       "      <td> 20</td>\n",
       "      <td> -9.392157</td>\n",
       "      <td>  54.960784</td>\n",
       "      <td> 33.764706</td>\n",
       "    </tr>\n",
       "    <tr>\n",
       "      <th>46</th>\n",
       "      <td> 21</td>\n",
       "      <td>  7.607843</td>\n",
       "      <td>  47.960784</td>\n",
       "      <td> 40.764706</td>\n",
       "    </tr>\n",
       "    <tr>\n",
       "      <th>47</th>\n",
       "      <td> 22</td>\n",
       "      <td> -1.392157</td>\n",
       "      <td>  54.960784</td>\n",
       "      <td> 35.764706</td>\n",
       "    </tr>\n",
       "    <tr>\n",
       "      <th>48</th>\n",
       "      <td> 23</td>\n",
       "      <td> -7.392157</td>\n",
       "      <td>  -9.039216</td>\n",
       "      <td> -9.235294</td>\n",
       "    </tr>\n",
       "    <tr>\n",
       "      <th>49</th>\n",
       "      <td> 24</td>\n",
       "      <td>  5.607843</td>\n",
       "      <td>   7.960784</td>\n",
       "      <td>  1.764706</td>\n",
       "    </tr>\n",
       "    <tr>\n",
       "      <th>50</th>\n",
       "      <td> 25</td>\n",
       "      <td>  6.607843</td>\n",
       "      <td> -80.039216</td>\n",
       "      <td>-56.235294</td>\n",
       "    </tr>\n",
       "  </tbody>\n",
       "</table>\n",
       "</div>"
      ],
      "text/plain": [
       "    year  temperature    rainfall  mosquitos\n",
       "0    -25     1.607843   -7.039216  -5.235294\n",
       "1    -24   -10.392157   19.960784   8.764706\n",
       "2    -23     8.607843   23.960784  21.764706\n",
       "3    -22    -6.392157  -93.039216 -64.235294\n",
       "4    -21    -2.392157  -60.039216 -45.235294\n",
       "5    -20     4.607843  -56.039216 -37.235294\n",
       "6    -19     5.607843  -35.039216 -23.235294\n",
       "7    -18    -5.392157 -101.039216 -73.235294\n",
       "8    -17   -10.392157   68.960784  44.764706\n",
       "9    -16     5.607843  -42.039216 -23.235294\n",
       "10   -15     2.607843   14.960784  12.764706\n",
       "11   -14    -2.392157   89.960784  61.764706\n",
       "12   -13     6.607843   80.960784  62.764706\n",
       "13   -12    -4.392157   78.960784  53.764706\n",
       "14   -11     5.607843   23.960784  16.764706\n",
       "15   -10     9.607843   76.960784  57.764706\n",
       "16    -9    -4.392157  -17.039216 -10.235294\n",
       "17    -8     6.607843   49.960784  39.764706\n",
       "18    -7     7.607843  -79.039216 -52.235294\n",
       "19    -6     6.607843   10.960784  13.764706\n",
       "20    -5     0.607843   -1.039216  -1.235294\n",
       "21    -4    -6.392157  -32.039216 -25.235294\n",
       "22    -3     4.607843   -5.039216   1.764706\n",
       "23    -2    -9.392157  -77.039216 -59.235294\n",
       "24    -1    -0.392157   17.960784  14.764706\n",
       "25     0    -8.392157  -11.039216 -12.235294\n",
       "26     1    -4.392157   53.960784  36.764706\n",
       "27     2     4.607843  -96.039216 -64.235294\n",
       "28     3     2.607843   39.960784  24.764706\n",
       "29     4     5.607843  -70.039216 -43.235294\n",
       "30     5     1.607843  -48.039216 -33.235294\n",
       "31     6    -3.392157  -35.039216 -25.235294\n",
       "32     7    -6.392157   72.960784  45.764706\n",
       "33     8   -10.392157   83.960784  52.764706\n",
       "34     9    -3.392157  -81.039216 -60.235294\n",
       "35    10     8.607843  -16.039216  -7.235294\n",
       "36    11     2.607843   90.960784  62.764706\n",
       "37    12    -0.392157   74.960784  51.764706\n",
       "38    13     5.607843   11.960784   9.764706\n",
       "39    14    -8.392157  -64.039216 -51.235294\n",
       "40    15    -1.392157   54.960784  35.764706\n",
       "41    16     4.607843  -18.039216 -10.235294\n",
       "42    17     5.607843   -2.039216   0.764706\n",
       "43    18    -8.392157  -12.039216 -12.235294\n",
       "44    19    -2.392157  -59.039216 -39.235294\n",
       "45    20    -9.392157   54.960784  33.764706\n",
       "46    21     7.607843   47.960784  40.764706\n",
       "47    22    -1.392157   54.960784  35.764706\n",
       "48    23    -7.392157   -9.039216  -9.235294\n",
       "49    24     5.607843    7.960784   1.764706\n",
       "50    25     6.607843  -80.039216 -56.235294"
      ]
     },
     "execution_count": 25,
     "metadata": {},
     "output_type": "execute_result"
    }
   ],
   "source": [
    "data = pd.read_csv('data/A2_mosquito_data.csv')\n",
    "center(data)"
   ]
  },
  {
   "cell_type": "markdown",
   "metadata": {},
   "source": [
    "It's hard to tell from the default output whether the result is correct,\n",
    "but there are a few simple tests that will reassure us:"
   ]
  },
  {
   "cell_type": "code",
   "execution_count": 26,
   "metadata": {
    "attributes": {
     "classes": [
      " {.python"
     ],
     "id": ""
    },
    "collapsed": false
   },
   "outputs": [
    {
     "name": "stdout",
     "output_type": "stream",
     "text": [
      "original mean:\n",
      "year           1985.000000\n",
      "temperature      80.392157\n",
      "rainfall        207.039216\n",
      "mosquitos       185.235294\n",
      "dtype: float64\n",
      "\n",
      "mean of centered data:\n",
      "year           0.000000e+00\n",
      "temperature    1.393221e-15\n",
      "rainfall       6.687461e-15\n",
      "mosquitos     -1.337492e-14\n",
      "dtype: float64\n"
     ]
    }
   ],
   "source": [
    "print('original mean:')\n",
    "print(data.mean())\n",
    "centered = center(data)\n",
    "print()\n",
    "print('mean of centered data:')\n",
    "print(centered.mean())"
   ]
  },
  {
   "cell_type": "markdown",
   "metadata": {},
   "source": [
    "The mean of the centered data is very close to zero;\n",
    "it's not quite zero because of floating point precision issues.\n",
    "We can even go further and check that the standard deviation hasn't changed\n",
    "(which it shouldn't if we've just centered the data):"
   ]
  },
  {
   "cell_type": "code",
   "execution_count": 27,
   "metadata": {
    "attributes": {
     "classes": [
      " {.python"
     ],
     "id": ""
    },
    "collapsed": false
   },
   "outputs": [
    {
     "name": "stdout",
     "output_type": "stream",
     "text": [
      "std dev before and after:\n",
      "year           14.866069\n",
      "temperature     6.135400\n",
      "rainfall       56.560396\n",
      "mosquitos      39.531551\n",
      "dtype: float64\n",
      "\n",
      "year           14.866069\n",
      "temperature     6.135400\n",
      "rainfall       56.560396\n",
      "mosquitos      39.531551\n",
      "dtype: float64\n"
     ]
    }
   ],
   "source": [
    "print('std dev before and after:')\n",
    "print(data.std())\n",
    "print()\n",
    "print(centered.std())"
   ]
  },
  {
   "cell_type": "markdown",
   "metadata": {},
   "source": [
    "The standard deviations look the same.\n",
    "It's still possible that our function is wrong,\n",
    "but it seems unlikely enough that we we're probably in good shape for now.\n",
    "\n",
    "Testing is really important when writing scientific code.\n",
    "If you haven't checked that your code works properly, you can't be confident in your results.\n",
    "We'll talk more about testing tomorrow.\n",
    "\n",
    "## Documentation\n",
    "\n",
    "\n",
    "OK, the `center` function seems to be working fine.\n",
    "Does anyone else see anything that's missing before we move on?\n",
    "\n",
    "Yes, we should write some *documentation*\n",
    "to remind ourselves later what it's for and how to use it.\n",
    "This function may be fairly straightforward,\n",
    "but in most cases it won't be so easy to remember exactly what a function is doing in a few months.\n",
    "Just imagine looking at our `analyze` function a few months in the future\n",
    "and trying to remember exactly what it was doing just based on the code.\n",
    "\n",
    "The usual way to put documentation in code is to add *comments* like this:"
   ]
  },
  {
   "cell_type": "code",
   "execution_count": 28,
   "metadata": {
    "attributes": {
     "classes": [
      " {.python"
     ],
     "id": ""
    },
    "collapsed": true
   },
   "outputs": [],
   "source": [
    "# center(data): return a new DataFrame containing the original data centered around zero.\n",
    "def center(data, desired):\n",
    "    return data - data.mean()"
   ]
  },
  {
   "cell_type": "markdown",
   "metadata": {},
   "source": [
    "There's a better way to do this in Python.\n",
    "If the first thing in a function is a string that isn't assigned to a variable,\n",
    "that string is attached to the function as its documentation:"
   ]
  },
  {
   "cell_type": "code",
   "execution_count": 29,
   "metadata": {
    "attributes": {
     "classes": [
      " {.python"
     ],
     "id": ""
    },
    "collapsed": true
   },
   "outputs": [],
   "source": [
    "def center(data, desired):\n",
    "    \"\"\"Return a new DataFrame containing the original data centered around zero.\"\"\"\n",
    "    return data - data.mean()"
   ]
  },
  {
   "cell_type": "markdown",
   "metadata": {},
   "source": [
    "This is better because we can now ask Python's built-in help system to show us the documentation for the function."
   ]
  },
  {
   "cell_type": "code",
   "execution_count": 30,
   "metadata": {
    "attributes": {
     "classes": [
      " {.python"
     ],
     "id": ""
    },
    "collapsed": false
   },
   "outputs": [
    {
     "name": "stdout",
     "output_type": "stream",
     "text": [
      "Help on function center in module __main__:\n",
      "\n",
      "center(data, desired)\n",
      "    Return a new DataFrame containing the original data centered around zero.\n",
      "\n"
     ]
    }
   ],
   "source": [
    "help(center)"
   ]
  },
  {
   "cell_type": "markdown",
   "metadata": {},
   "source": [
    "A string like this is called a *docstring*\n",
    "and there are also automatic documentation generators that use these docstrings to produce documentation for users.\n",
    "We use triple quotes because\n",
    "it allows us to include multiple lines of text and because it is considered good Python style."
   ]
  },
  {
   "cell_type": "code",
   "execution_count": 31,
   "metadata": {
    "attributes": {
     "classes": [
      " {.python"
     ],
     "id": ""
    },
    "collapsed": false
   },
   "outputs": [
    {
     "name": "stdout",
     "output_type": "stream",
     "text": [
      "Help on function center in module __main__:\n",
      "\n",
      "center(data)\n",
      "    Return a new array containing the original data centered on zero\n",
      "    \n",
      "    Example:\n",
      "    >>> import pandas\n",
      "    >>> data = pandas.DataFrame([[0, 1], [0, 2])\n",
      "    >>> center(data)\n",
      "       0    1\n",
      "    0  0 -0.5\n",
      "    1  0  0.5\n",
      "\n"
     ]
    }
   ],
   "source": [
    "def center(data):\n",
    "    \"\"\"Return a new array containing the original data centered on zero\n",
    "    \n",
    "    Example:\n",
    "    >>> import pandas\n",
    "    >>> data = pandas.DataFrame([[0, 1], [0, 2])\n",
    "    >>> center(data)\n",
    "       0    1\n",
    "    0  0 -0.5\n",
    "    1  0  0.5\n",
    "\n",
    "     \n",
    "    \"\"\"\n",
    "    return data - data.mean()\n",
    "\n",
    "help(center)"
   ]
  },
  {
   "cell_type": "markdown",
   "metadata": {},
   "source": [
    "### Challenge\n",
    "\n",
    "\n",
    "1. Test your temperature conversion function to make sure it's working\n",
    "   (think about some temperatures that you easily know the conversion for).\n",
    "2. Add documentation to both the temperature conversation function and the analysis function."
   ]
  },
  {
   "cell_type": "code",
   "execution_count": null,
   "metadata": {
    "collapsed": true
   },
   "outputs": [],
   "source": []
  },
  {
   "cell_type": "markdown",
   "metadata": {},
   "source": [
    "## Looping over files\n",
    "\n",
    "\n",
    "So now our code looks something like this:"
   ]
  },
  {
   "cell_type": "code",
   "execution_count": 34,
   "metadata": {
    "attributes": {
     "classes": [
      " {.python"
     ],
     "id": ""
    },
    "collapsed": false
   },
   "outputs": [
    {
     "name": "stdout",
     "output_type": "stream",
     "text": [
      "Intercept      17.545739\n",
      "temperature     0.871943\n",
      "rainfall        0.696717\n",
      "dtype: float64\n"
     ]
    },
    {
     "data": {
      "image/png": "[encoded data removed]",
      "text/plain": [
       "<matplotlib.figure.Figure at 0x7fe6acea6a90>"
      ]
     },
     "metadata": {},
     "output_type": "display_data"
    }
   ],
   "source": [
    "import pandas as pd\n",
    "import statsmodels.api as sm\n",
    "import matplotlib.pyplot as plt\n",
    "\n",
    "def fahr_to_celsius(tempF):\n",
    "    \"\"\"Convert fahrenheit to celsius\"\"\"\n",
    "    tempC = (tempF - 32) * 5 / 9.0\n",
    "    return tempC\n",
    "\n",
    "def analyze(data):\n",
    "    \"\"\"Perform regression analysis on mosquito data\n",
    "    \n",
    "    Takes a dataframe as input that includes columns named 'temperature',\n",
    "    'rainfall', and 'mosquitos'.\n",
    "    \n",
    "    Performs a multiple regression to predict the number of mosquitos.\n",
    "    Creates an observed-predicted plot of the result and\n",
    "    returns the parameters of the regression.\n",
    "    \n",
    "    \"\"\"\n",
    "    regr_results = sm.OLS.from_formula('mosquitos ~ temperature + rainfall', data).fit()\n",
    "    parameters = regr_results.params\n",
    "    predicted = parameters[0] + parameters[1] * data['temperature'] + parameters[2] * data['rainfall']\n",
    "    plt.figure()\n",
    "    plt.plot(predicted, data['mosquitos'], 'ro')\n",
    "    min_mosquitos, max_mosquitos = min(data['mosquitos']), max(data['mosquitos'])\n",
    "    plt.plot([min_mosquitos, max_mosquitos], [min_mosquitos, max_mosquitos], 'k-')\n",
    "    return parameters\n",
    "\n",
    "data = pd.read_csv('data/A2_mosquito_data.csv')\n",
    "data['temperature'] = fahr_to_celsius(data['temperature'])\n",
    "regr_results = analyze(data)\n",
    "print(regr_results)"
   ]
  },
  {
   "cell_type": "markdown",
   "metadata": {},
   "source": [
    "Now we want to loop over all of the possible data files,\n",
    "and to do that we need to know their names.\n",
    "If we only had a dozen files we could write them all down,\n",
    "but if we have hundreds of files or the filenames change then that won't really work.\n",
    "Fortunately Python has a built in library to help us find the files we want to work with called `glob`."
   ]
  },
  {
   "cell_type": "code",
   "execution_count": 36,
   "metadata": {
    "attributes": {
     "classes": [
      " {.python"
     ],
     "id": ""
    },
    "collapsed": false
   },
   "outputs": [
    {
     "data": {
      "text/plain": [
       "['data/B2_mosquito_data.csv',\n",
       " 'data/A2_mosquito_data.csv',\n",
       " 'data/B1_mosquito_data.csv',\n",
       " 'data/A3_mosquito_data.csv',\n",
       " 'data/A1_mosquito_data.csv']"
      ]
     },
     "execution_count": 36,
     "metadata": {},
     "output_type": "execute_result"
    }
   ],
   "source": [
    "import glob\n",
    "\n",
    "filenames = glob.glob('data/*.csv')\n",
    "filenames"
   ]
  },
  {
   "cell_type": "markdown",
   "metadata": {},
   "source": [
    "The object returned by `glob` is a list of strings.\n",
    "A list is a Python data type that holds a group of potentially heterogenous values.\n",
    "That means it can hold pretty much anything,\n",
    "including functions."
   ]
  },
  {
   "cell_type": "code",
   "execution_count": 37,
   "metadata": {
    "attributes": {
     "classes": [
      " {.python"
     ],
     "id": ""
    },
    "collapsed": false
   },
   "outputs": [
    {
     "data": {
      "text/plain": [
       "[1, 'a', <function __main__.center>]"
      ]
     },
     "execution_count": 37,
     "metadata": {},
     "output_type": "execute_result"
    }
   ],
   "source": [
    "mylist = [1, 'a', center]\n",
    "mylist"
   ]
  },
  {
   "cell_type": "markdown",
   "metadata": {},
   "source": [
    "In this case all of the values are strings\n",
    "that contain the names of all of the files that match the expression given to `glob`,\n",
    "so in this case all of the files with the `.csv` extension.\n",
    "\n",
    "Let's restrict the filenames a little more finely,\n",
    "so that we don't accidentally get any data we don't want,\n",
    "and print out the filenames one at a time."
   ]
  },
  {
   "cell_type": "code",
   "execution_count": 38,
   "metadata": {
    "attributes": {
     "classes": [
      " {.python"
     ],
     "id": ""
    },
    "collapsed": false
   },
   "outputs": [
    {
     "name": "stdout",
     "output_type": "stream",
     "text": [
      "data/B2_mosquito_data.csv\n",
      "data/A2_mosquito_data.csv\n",
      "data/B1_mosquito_data.csv\n",
      "data/A3_mosquito_data.csv\n",
      "data/A1_mosquito_data.csv\n"
     ]
    }
   ],
   "source": [
    "filenames = glob.glob('data/*.csv')\n",
    "for filename in filenames:\n",
    "    print(filename)"
   ]
  },
  {
   "cell_type": "markdown",
   "metadata": {},
   "source": [
    "### Challenge\n",
    "\n",
    "\n",
    "Modify your code to loop over all of the files in your directory,\n",
    "making an observed-predicted plot for each file and printing the parameters."
   ]
  },
  {
   "cell_type": "code",
   "execution_count": null,
   "metadata": {
    "collapsed": true
   },
   "outputs": [],
   "source": []
  }
 ],
 "metadata": {
  "kernelspec": {
   "display_name": "Python 3",
   "language": "python",
   "name": "python3"
  },
  "language_info": {
   "codemirror_mode": {
    "name": "ipython",
    "version": 3
   },
   "file_extension": ".py",
   "mimetype": "text/x-python",
   "name": "python",
   "nbconvert_exporter": "python",
   "pygments_lexer": "ipython3",
   "version": "3.4.3"
  }
 },
 "nbformat": 4,
 "nbformat_minor": 0
}
